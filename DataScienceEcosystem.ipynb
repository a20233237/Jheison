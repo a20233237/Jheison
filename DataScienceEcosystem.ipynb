{
 "cells": [
  {
   "cell_type": "code",
   "execution_count": null,
   "id": "07f58a21-76b5-4af2-9f2e-9fc2dc4b1a35",
   "metadata": {},
   "outputs": [],
   "source": [
    "# Data Science Ecosystem"
   ]
  },
  {
   "cell_type": "code",
   "execution_count": null,
   "id": "52ae86c0-908d-4b88-9005-f73d6649079b",
   "metadata": {},
   "outputs": [],
   "source": [
    "## Introducion\n",
    "In this notebook, Data Science Tools and Ecosystem are summarized."
   ]
  },
  {
   "cell_type": "code",
   "execution_count": null,
   "id": "85d1fe55-ba28-4ee6-98b6-520d3c53addb",
   "metadata": {},
   "outputs": [],
   "source": [
    "Some of the popular languages that Data Scientists use are:\n",
    "    1. Python\n",
    "    2. R\n",
    "    3. Julia\n",
    "    4. SQL"
   ]
  },
  {
   "cell_type": "code",
   "execution_count": null,
   "id": "5f85cbf5-c70a-4174-b829-419ee8ef7d89",
   "metadata": {},
   "outputs": [],
   "source": [
    "Some of the commonly used libraries used by Data Scientists include:\n",
    "    1. Pandas\n",
    "    2. NumPy\n",
    "    3. Matplotlib\n",
    "    4. Seaborn\n",
    "    5. Scikit-learn"
   ]
  },
  {
   "cell_type": "code",
   "execution_count": null,
   "id": "ad5d6ad3-c620-4b7b-918b-8d946d062fc3",
   "metadata": {},
   "outputs": [],
   "source": [
    "## Data Science Tools\n",
    "\n",
    "| Herramienta           | Descripción                                     |\n",
    "|-----------------------|-------------------------------------------------|\n",
    "| Jupyter Notebook      | Plataforma interactiva para ciencia de datos    |\n",
    "| RStudio               | IDE para R                                       |\n",
    "| SQL Server Management | Herramienta de gestión de bases de datos SQL    |"
   ]
  },
  {
   "cell_type": "code",
   "execution_count": null,
   "id": "c1edb8e6-ce51-4168-bbdf-a0b78bd346e6",
   "metadata": {},
   "outputs": [],
   "source": [
    "Below are a few examples of evaluating arithmetic expressions in Python\n",
    "- Suma: \\(2 + 3\\)\n",
    "- Resta: \\(5 - 2\\)\n",
    "- Multiplicación: \\(4 \\times 6\\)\n",
    "- División: \\(9 / 3\\)"
   ]
  },
  {
   "cell_type": "code",
   "execution_count": 4,
   "id": "ccb11fd7-e8ae-44ac-a0b5-416c3473912f",
   "metadata": {
    "tags": []
   },
   "outputs": [
    {
     "name": "stdout",
     "output_type": "stream",
     "text": [
      "El resultado de la expresión es: 17\n"
     ]
    }
   ],
   "source": [
    "# This a simple arithmetic expression to mutiply then add integers.\n",
    "resultado = (3 * 4) + 5\n",
    "\n",
    "# Imprimir el resultado\n",
    "print(\"El resultado de la expresión es:\", resultado)"
   ]
  },
  {
   "cell_type": "code",
   "execution_count": 5,
   "id": "b6e9332f-fe80-47dd-99f0-48853377cc6d",
   "metadata": {
    "tags": []
   },
   "outputs": [
    {
     "name": "stdout",
     "output_type": "stream",
     "text": [
      "La conversión de 200 minutos a horas es: 3.3333333333333335\n"
     ]
    }
   ],
   "source": [
    "# This will convert 200 minutes to hours by diving by 60.\n",
    "resultado_conversion = 200 / 60\n",
    "\n",
    "# Imprimir el resultado\n",
    "print(\"La conversión de 200 minutos a horas es:\", resultado_conversion)\n"
   ]
  },
  {
   "cell_type": "code",
   "execution_count": null,
   "id": "15e1e3ea-4fa1-4644-abf5-a5016d7fe2d5",
   "metadata": {},
   "outputs": [],
   "source": [
    "**Objectives:**\n",
    "\n",
    "- List popular languages for Data Science.\n",
    "- Identify common libraries used in Data Science.\n",
    "- Create a table of tools for Data Science.\n",
    "- Introduce arithmetic expressions in Python.\n",
    "- Practice simple operations like multiplication and addition in Python.\n",
    "- Convert minutes to hours using Python expressions.\n",
    "- Share a JupyterLite notebook through GitHub.\n",
    "- Create and present a code and markdown cell in JupyterLite.\n",
    "- Take a screenshot of the first page of the notebook."
   ]
  },
  {
   "cell_type": "code",
   "execution_count": null,
   "id": "992185b1-617c-463a-84e5-d12f5107bc82",
   "metadata": {},
   "outputs": [],
   "source": [
    "## Author\n",
    "[Jheison Condori]"
   ]
  }
 ],
 "metadata": {
  "kernelspec": {
   "display_name": "Python",
   "language": "python",
   "name": "conda-env-python-py"
  },
  "language_info": {
   "codemirror_mode": {
    "name": "ipython",
    "version": 3
   },
   "file_extension": ".py",
   "mimetype": "text/x-python",
   "name": "python",
   "nbconvert_exporter": "python",
   "pygments_lexer": "ipython3",
   "version": "3.7.12"
  }
 },
 "nbformat": 4,
 "nbformat_minor": 5
}
